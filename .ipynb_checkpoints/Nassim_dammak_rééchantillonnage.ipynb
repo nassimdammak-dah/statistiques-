{
 "cells": [
  {
   "cell_type": "markdown",
   "id": "1059a4fa",
   "metadata": {},
   "source": [
    "Introduction\n",
    "Contexte de l'étude\n",
    "Cette analyse s'appuie sur les données de l'article scientifique intitulé \"Framing side effects positively improves clinical trial participants’ perceived control and reduces symptom burden: A randomized controlled trial\", publié dans PLOS ONE (https://journals.plos.org/plosone/article?id=10.1371/journal.pone.0209851#pone-0209851-g001).\n",
    "L'étude explore comment le cadrage positif des effets secondaires (en les présentant comme un signe que le médicament est actif) influence la perception des participants et leur fardeau symptomatique, par rapport à un cadrage neutre ou négatif.\n",
    "\n",
    "Source des données\n",
    "Les données utilisées dans ce notebook proviennent du fichier Excel raw_data_framing_side_effects_positively.xlsx, qui contient les données brutes de l'étude. Ce fichier est structuré en deux feuilles :\n",
    "\n",
    "raw_data : Contient les données des participants, y compris les scores de douleur, les effets secondaires, les scores psychologiques, etc.\n",
    "\n",
    "metadata : Fournit une description des colonnes et des variables.\n",
    "\n",
    "Objectif du notebook\n",
    "Ce notebook Jupyter a pour objectif de :\n",
    "\n",
    "1) Décrire et explorer les données (DATA_description) pour comprendre leur structure et leur contenu.\n",
    "\n",
    "2) Valider les calculs statistiques effectués dans l'article en reproduisant les analyses.\n",
    "\n",
    "3) Identifier les modèles statistiques utilisés dans l'article et les hypothèses testées.\n",
    "\n",
    " 4) Effectuer un rééchantillonnage pour vérifier la robustesse des résultats.\n",
    "\n"
   ]
  },
  {
   "cell_type": "markdown",
   "id": "37b68306",
   "metadata": {},
   "source": [
    "1. DATA_description\n",
    "\n",
    "\n",
    "Objectif\n",
    "\n",
    "Explorer les données pour comprendre leur structure, les variables disponibles et les relations entre elles.\n",
    "\n",
    "Identifier les variables clés (par exemple, scores de douleur, effets secondaires, scores psychologiques)"
   ]
  }
 ],
 "metadata": {
  "language_info": {
   "name": "python"
  }
 },
 "nbformat": 4,
 "nbformat_minor": 5
}
